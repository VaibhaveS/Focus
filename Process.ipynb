{
 "cells": [
  {
   "cell_type": "code",
   "execution_count": 78,
   "id": "8e243a8d",
   "metadata": {},
   "outputs": [
    {
     "name": "stdout",
     "output_type": "stream",
     "text": [
      "Requirement already satisfied: moviepy in c:\\users\\hp\\anaconda3\\lib\\site-packages (1.0.3)\n",
      "Requirement already satisfied: numpy>=1.17.3 in c:\\users\\hp\\anaconda3\\lib\\site-packages (from moviepy) (1.20.1)\n",
      "Requirement already satisfied: imageio-ffmpeg>=0.2.0 in c:\\users\\hp\\anaconda3\\lib\\site-packages (from moviepy) (0.4.5)\n",
      "Requirement already satisfied: imageio<3.0,>=2.5 in c:\\users\\hp\\anaconda3\\lib\\site-packages (from moviepy) (2.9.0)\n",
      "Requirement already satisfied: tqdm<5.0,>=4.11.2 in c:\\users\\hp\\anaconda3\\lib\\site-packages (from moviepy) (4.59.0)\n",
      "Requirement already satisfied: decorator<5.0,>=4.0.2 in c:\\users\\hp\\anaconda3\\lib\\site-packages (from moviepy) (4.4.2)\n",
      "Requirement already satisfied: requests<3.0,>=2.8.1 in c:\\users\\hp\\anaconda3\\lib\\site-packages (from moviepy) (2.25.1)\n",
      "Requirement already satisfied: proglog<=1.0.0 in c:\\users\\hp\\anaconda3\\lib\\site-packages (from moviepy) (0.1.9)\n",
      "Requirement already satisfied: pillow in c:\\users\\hp\\anaconda3\\lib\\site-packages (from imageio<3.0,>=2.5->moviepy) (8.2.0)\n",
      "Requirement already satisfied: urllib3<1.27,>=1.21.1 in c:\\users\\hp\\anaconda3\\lib\\site-packages (from requests<3.0,>=2.8.1->moviepy) (1.26.4)\n",
      "Requirement already satisfied: certifi>=2017.4.17 in c:\\users\\hp\\anaconda3\\lib\\site-packages (from requests<3.0,>=2.8.1->moviepy) (2020.12.5)\n",
      "Requirement already satisfied: chardet<5,>=3.0.2 in c:\\users\\hp\\anaconda3\\lib\\site-packages (from requests<3.0,>=2.8.1->moviepy) (4.0.0)\n",
      "Requirement already satisfied: idna<3,>=2.5 in c:\\users\\hp\\anaconda3\\lib\\site-packages (from requests<3.0,>=2.8.1->moviepy) (2.10)\n"
     ]
    }
   ],
   "source": [
    "%matplotlib inline\n",
    "#The line above is necesary to show Matplotlib's plots inside a Jupyter Notebook\n",
    "#!pip install opencv-contrib-python\n",
    "import cv2\n",
    "from matplotlib import pyplot as plt\n",
    "from tensorflow.keras.optimizers import SGD\n",
    "from PIL import Image\n",
    "from PIL import ImageFilter\n",
    "import cv2\n",
    "import numpy as np\n",
    "import anvil.server\n",
    "import anvil.server\n",
    "!pip install moviepy\n",
    "import moviepy.editor as mp"
   ]
  },
  {
   "cell_type": "code",
   "execution_count": 79,
   "id": "ec709fad",
   "metadata": {},
   "outputs": [],
   "source": [
    "# !pip install azure-cognitiveservices-speech\n",
    "# !pip install google-api-python-client \n",
    "# !pip install --upgrade google-cloud-speech\n",
    "#!pip install anvil-uplink\n",
    "# !pip install --upgrade google-api-python-client\n",
    "# !pip install --upgrade google-cloud-speech"
   ]
  },
  {
   "cell_type": "code",
   "execution_count": 80,
   "id": "2d1da9de",
   "metadata": {},
   "outputs": [],
   "source": [
    "import anvil.server\n",
    "anvil.server.connect(\"server_PFOYW7TJUDIUZD4RDEWND7YY-ORZU3UXU6JCOS2XW\")\n",
    "import anvil.media\n",
    "from shutil import copy"
   ]
  },
  {
   "cell_type": "code",
   "execution_count": 81,
   "id": "d607d6a4",
   "metadata": {},
   "outputs": [],
   "source": [
    "import pandas as pd\n",
    "import numpy as np\n",
    "import os\n",
    "import matplotlib.pyplot as plt\n",
    "# !pip install keras\n",
    "# !pip install tensorflow\n",
    "from sklearn.metrics import confusion_matrix\n",
    "from mlxtend.plotting import plot_confusion_matrix\n",
    "\n",
    "from keras import models\n",
    "from keras.layers import Dense, Dropout, Flatten, Conv2D, MaxPool2D\n",
    "from tensorflow.keras.optimizers import RMSprop\n",
    "from tensorflow.keras.optimizers import Adam\n",
    "from tensorflow.keras.utils import to_categorical"
   ]
  },
  {
   "cell_type": "code",
   "execution_count": 82,
   "id": "3d90d1de",
   "metadata": {},
   "outputs": [],
   "source": [
    "data = pd.read_csv('icml_face_data.csv')\n",
    "#48 x 48"
   ]
  },
  {
   "cell_type": "code",
   "execution_count": 83,
   "id": "dce92323",
   "metadata": {
    "scrolled": true
   },
   "outputs": [
    {
     "data": {
      "text/html": [
       "<div>\n",
       "<style scoped>\n",
       "    .dataframe tbody tr th:only-of-type {\n",
       "        vertical-align: middle;\n",
       "    }\n",
       "\n",
       "    .dataframe tbody tr th {\n",
       "        vertical-align: top;\n",
       "    }\n",
       "\n",
       "    .dataframe thead th {\n",
       "        text-align: right;\n",
       "    }\n",
       "</style>\n",
       "<table border=\"1\" class=\"dataframe\">\n",
       "  <thead>\n",
       "    <tr style=\"text-align: right;\">\n",
       "      <th></th>\n",
       "      <th>emotion</th>\n",
       "      <th>Usage</th>\n",
       "      <th>pixels</th>\n",
       "    </tr>\n",
       "  </thead>\n",
       "  <tbody>\n",
       "    <tr>\n",
       "      <th>0</th>\n",
       "      <td>0</td>\n",
       "      <td>Training</td>\n",
       "      <td>70 80 82 72 58 58 60 63 54 58 60 48 89 115 121...</td>\n",
       "    </tr>\n",
       "    <tr>\n",
       "      <th>1</th>\n",
       "      <td>0</td>\n",
       "      <td>Training</td>\n",
       "      <td>151 150 147 155 148 133 111 140 170 174 182 15...</td>\n",
       "    </tr>\n",
       "    <tr>\n",
       "      <th>2</th>\n",
       "      <td>2</td>\n",
       "      <td>Training</td>\n",
       "      <td>231 212 156 164 174 138 161 173 182 200 106 38...</td>\n",
       "    </tr>\n",
       "    <tr>\n",
       "      <th>3</th>\n",
       "      <td>4</td>\n",
       "      <td>Training</td>\n",
       "      <td>24 32 36 30 32 23 19 20 30 41 21 22 32 34 21 1...</td>\n",
       "    </tr>\n",
       "    <tr>\n",
       "      <th>4</th>\n",
       "      <td>6</td>\n",
       "      <td>Training</td>\n",
       "      <td>4 0 0 0 0 0 0 0 0 0 0 0 3 15 23 28 48 50 58 84...</td>\n",
       "    </tr>\n",
       "  </tbody>\n",
       "</table>\n",
       "</div>"
      ],
      "text/plain": [
       "   emotion     Usage                                             pixels\n",
       "0        0  Training  70 80 82 72 58 58 60 63 54 58 60 48 89 115 121...\n",
       "1        0  Training  151 150 147 155 148 133 111 140 170 174 182 15...\n",
       "2        2  Training  231 212 156 164 174 138 161 173 182 200 106 38...\n",
       "3        4  Training  24 32 36 30 32 23 19 20 30 41 21 22 32 34 21 1...\n",
       "4        6  Training  4 0 0 0 0 0 0 0 0 0 0 0 3 15 23 28 48 50 58 84..."
      ]
     },
     "execution_count": 83,
     "metadata": {},
     "output_type": "execute_result"
    }
   ],
   "source": [
    "data.head()"
   ]
  },
  {
   "cell_type": "code",
   "execution_count": 84,
   "id": "2cbb29b5",
   "metadata": {},
   "outputs": [],
   "source": [
    "def prepare_data(data):\n",
    "    \"\"\" Prepare data for modeling \n",
    "        input: data frame with labels und pixel data\n",
    "        output: image and label array \"\"\"\n",
    "    \n",
    "    image_array = np.zeros(shape=(len(data), 48, 48))\n",
    "    image_label = np.array(list(map(int, data['emotion'])))\n",
    "    \n",
    "    for i, row in enumerate(data.index):\n",
    "        image = np.fromstring(data.loc[row, ' pixels'], dtype=int, sep=' ')\n",
    "        image = np.reshape(image, (48, 48))\n",
    "        image_array[i] = image\n",
    "        \n",
    "    return image_array, image_label\n",
    "\n",
    "def plot_examples(label=0):\n",
    "    fig, axs = plt.subplots(1, 5, figsize=(25, 12))\n",
    "    fig.subplots_adjust(hspace = .2, wspace=.2)\n",
    "    axs = axs.ravel()\n",
    "    for i in range(5):\n",
    "        idx = data[data['emotion']==label].index[i]\n",
    "        axs[i].imshow(train_images[idx][:,:,0], cmap='gray')\n",
    "        axs[i].set_title(emotions[train_labels[idx].argmax()])\n",
    "        axs[i].set_xticklabels([])\n",
    "        axs[i].set_yticklabels([])\n",
    "        \n",
    "def plot_all_emotions(train_images,emotions,train_labels):\n",
    "    fig, axs = plt.subplots(1, 7, figsize=(30, 12))\n",
    "    fig.subplots_adjust(hspace = .2, wspace=.2)\n",
    "    axs = axs.ravel()\n",
    "    for i in range(7):\n",
    "        idx = data[data['emotion']==i].index[i]\n",
    "        axs[i].imshow(train_images[idx][:,:,0], cmap='gray')\n",
    "        axs[i].set_title(emotions[train_labels[idx].argmax()])\n",
    "        axs[i].set_xticklabels([])\n",
    "        axs[i].set_yticklabels([])\n",
    "        \n",
    "def plot_image_and_emotion(emotions, test_image_array, test_image_label, pred_test_labels, image_number):\n",
    "    \"\"\" Function to plot the image and compare the prediction results with the label \"\"\"\n",
    "    \n",
    "    fig, axs = plt.subplots(1, 2, figsize=(12, 6), sharey=False)\n",
    "    \n",
    "    bar_label = emotions.values()\n",
    "    \n",
    "    axs[0].imshow(test_image_array[image_number], 'gray')\n",
    "    axs[0].set_title(emotions[test_image_label[image_number]])\n",
    "    \n",
    "    axs[1].bar(bar_label, pred_test_labels[image_number], color='orange', alpha=0.7)\n",
    "    axs[1].grid()\n",
    "    \n",
    "    plt.show()\n",
    "    \n",
    "def plot_compare_distributions(emotions, array1, array2, title1='', title2=''):\n",
    "    df_array1 = pd.DataFrame()\n",
    "    df_array2 = pd.DataFrame()\n",
    "    df_array1['emotion'] = array1.argmax(axis=1)\n",
    "    df_array2['emotion'] = array2.argmax(axis=1)\n",
    "    \n",
    "    fig, axs = plt.subplots(1, 2, figsize=(12, 6), sharey=False)\n",
    "    x = emotions.values()\n",
    "    \n",
    "    y = df_array1['emotion'].value_counts()\n",
    "    keys_missed = list(set(emotions.keys()).difference(set(y.keys())))\n",
    "    for key_missed in keys_missed:\n",
    "        y[key_missed] = 0\n",
    "    axs[0].bar(x, y.sort_index(), color='orange')\n",
    "    axs[0].set_title(title1)\n",
    "    axs[0].grid()\n",
    "    \n",
    "    y = df_array2['emotion'].value_counts()\n",
    "    keys_missed = list(set(emotions.keys()).difference(set(y.keys())))\n",
    "    for key_missed in keys_missed:\n",
    "        y[key_missed] = 0\n",
    "    axs[1].bar(x, y.sort_index())\n",
    "    axs[1].set_title(title2)\n",
    "    axs[1].grid()\n",
    "    \n",
    "    plt.show()"
   ]
  },
  {
   "cell_type": "code",
   "execution_count": 113,
   "id": "fc77e4a4",
   "metadata": {},
   "outputs": [],
   "source": [
    "def driverFunction(data):\n",
    "    data[' Usage'].value_counts()\n",
    "    emotions = {0: 'Angry', 1: 'Disgust', 2: 'Fear', 3: 'Happy', 4: 'Sad', 5: 'Surprise', 6: 'Neutral'}\n",
    "    train_image_array, train_image_label = prepare_data(data[data[' Usage']=='Training'])\n",
    "    val_image_array, val_image_label = prepare_data(data[data[' Usage']=='PrivateTest'])\n",
    "    test_image_array, test_image_label = prepare_data(data[data[' Usage']=='PublicTest'])\n",
    "    train_images = train_image_array.reshape((train_image_array.shape[0], 48, 48, 1))\n",
    "    train_images = train_images.astype('float32')/255\n",
    "    val_images = val_image_array.reshape((val_image_array.shape[0], 48, 48, 1))\n",
    "    val_images = val_images.astype('float32')/255\n",
    "    test_images = test_image_array.reshape((test_image_array.shape[0], 48, 48, 1))\n",
    "    test_images = test_images.astype('float32')/255\n",
    "    train_labels = to_categorical(train_image_label)\n",
    "    val_labels = to_categorical(val_image_label)\n",
    "    test_labels = to_categorical(test_image_label)\n",
    "    plot_all_emotions(train_images,emotions,train_labels)\n",
    "    plot_compare_distributions(emotions,train_labels, val_labels, title1='train labels', title2='val labels')\n",
    "    class_weight = dict(zip(range(0, 7), (((data[data[' Usage']=='Training']['emotion'].value_counts()).sort_index())/len(data[data[' Usage']=='Training']['emotion'])).tolist()))\n",
    "    model = models.Sequential()\n",
    "    model.add(Conv2D(32, (3, 3), activation='relu', input_shape=(48, 48, 1)))\n",
    "    model.add(MaxPool2D((2, 2)))\n",
    "    model.add(Conv2D(64, (3, 3), activation='relu'))\n",
    "    model.add(MaxPool2D((2, 2)))\n",
    "    model.add(Conv2D(64, (3, 3), activation='relu'))\n",
    "    model.add(Flatten())\n",
    "    model.add(Dense(64, activation='relu'))\n",
    "    model.add(Dense(7, activation='softmax'))\n",
    "    model.compile(optimizer=Adam(lr=1e-3), loss='categorical_crossentropy', metrics=['accuracy'])\n",
    "    model.summary()\n",
    "    history = model.fit(train_images, train_labels,\n",
    "                    validation_data=(val_images, val_labels),\n",
    "                    class_weight = class_weight,\n",
    "                    epochs=12,\n",
    "                    batch_size=64)\n",
    "    test_loss, test_acc = model.evaluate(test_images, test_labels)\n",
    "    #print('test caccuracy:', test_acc)\n",
    "    pred_test_labels = model.predict(test_images)\n",
    "    plot_image_and_emotion(emotions,test_image_array, test_image_label, pred_test_labels, 104)\n",
    "    return test_acc\n",
    "    return model"
   ]
  },
  {
   "cell_type": "code",
   "execution_count": 86,
   "id": "758a6009",
   "metadata": {},
   "outputs": [],
   "source": [
    "test_image_array, test_image_label = prepare_data(data[data[' Usage']=='PublicTest'])\n",
    "test_images = test_image_array.reshape((test_image_array.shape[0], 48, 48, 1))\n",
    "test_images = test_images.astype('float32')/255\n",
    "# pred_test_labels = model.predict(test_images[:1])\n",
    "# print(pred_test_labels)"
   ]
  },
  {
   "cell_type": "code",
   "execution_count": 87,
   "id": "76340803",
   "metadata": {},
   "outputs": [],
   "source": [
    "#plot_image_and_emotion(test_image_array, test_image_label, pred_test_labels, 104)"
   ]
  },
  {
   "cell_type": "code",
   "execution_count": 88,
   "id": "7324f3fe",
   "metadata": {},
   "outputs": [],
   "source": [
    "def Grayscale(name1):\n",
    "    img = Image.open(name1)\n",
    "    imgGray = img.convert('L')\n",
    "    return np.array(imgGray)"
   ]
  },
  {
   "cell_type": "code",
   "execution_count": 89,
   "id": "604e9939",
   "metadata": {},
   "outputs": [],
   "source": [
    "def Binary_Thresholding(name1,val,maxi):\n",
    "    image1 = cv2.imread(name1)\n",
    "    img = cv2.cvtColor(image1, cv2.COLOR_BGR2GRAY)\n",
    "    ret, thresh1 = cv2.threshold(img,val,maxi, cv2.THRESH_BINARY)\n",
    "    return np.array(thresh1)"
   ]
  },
  {
   "cell_type": "code",
   "execution_count": 90,
   "id": "ba757059",
   "metadata": {},
   "outputs": [],
   "source": [
    "def Truncated_Thresholding(name1,val,maxi):\n",
    "    image1 = cv2.imread(name1)\n",
    "    img = cv2.cvtColor(image1, cv2.COLOR_BGR2GRAY)\n",
    "    ret, thresh2 = cv2.threshold(img,val,maxi,cv2.THRESH_TRUNC)\n",
    "    return np.array(thresh1)"
   ]
  },
  {
   "cell_type": "code",
   "execution_count": 91,
   "id": "8ddc2ff2",
   "metadata": {},
   "outputs": [],
   "source": [
    "def Thresholding_To_Zero(name1,val = 120,maxi = 255):\n",
    "    image1 = cv2.imread(name1)\n",
    "    img = cv2.cvtColor(image1, cv2.COLOR_BGR2GRAY)\n",
    "    ret, thresh3 = cv2.threshold(img,val,maxi,cv2.THRESH_TOZERO)\n",
    "    return np.array(thresh3)"
   ]
  },
  {
   "cell_type": "code",
   "execution_count": 92,
   "id": "6dcc2e14",
   "metadata": {},
   "outputs": [],
   "source": [
    "def invert(name1):\n",
    "    image1 = cv2.imread(name1,0)\n",
    "    image1 = cv2.bitwise_not(image1)\n",
    "    return np.array(image1)"
   ]
  },
  {
   "cell_type": "code",
   "execution_count": 93,
   "id": "ff1b1b04",
   "metadata": {},
   "outputs": [],
   "source": [
    "def sharpen(name1):\n",
    "    img = Image.open(name1)\n",
    "    sharpened1 = img.filter(ImageFilter.SHARPEN);\n",
    "    sharpened2 = sharpened1.filter(ImageFilter.SHARPEN);\n",
    "    sharpened3 = sharpened2.filter(ImageFilter.SHARPEN);\n",
    "    return np.array(sharpened3)"
   ]
  },
  {
   "cell_type": "code",
   "execution_count": 94,
   "id": "f93b5a07",
   "metadata": {},
   "outputs": [],
   "source": [
    "def reduce(array):\n",
    "    reduced=[]\n",
    "    for j in array:\n",
    "        row=[]\n",
    "        for i in j:\n",
    "            row.append(i[0])\n",
    "        reduced.append(row)\n",
    "    return np.array(reduced)"
   ]
  },
  {
   "cell_type": "code",
   "execution_count": 95,
   "id": "04cbecc0",
   "metadata": {},
   "outputs": [],
   "source": [
    "def blur(name1):\n",
    "    img = cv2.imread(name1)\n",
    "    img = cv2.blur(img, (3,3)) \n",
    "    return reduce(np.array(img))"
   ]
  },
  {
   "cell_type": "code",
   "execution_count": 96,
   "id": "0156a76a",
   "metadata": {},
   "outputs": [],
   "source": [
    "def min(name1):\n",
    "    img=Image.open(name1)\n",
    "    img2=img.filter(ImageFilter.MinFilter(size=3))\n",
    "    return np.array(img2)"
   ]
  },
  {
   "cell_type": "code",
   "execution_count": 97,
   "id": "4299909a",
   "metadata": {},
   "outputs": [],
   "source": [
    "def max(name1):\n",
    "    img=Image.open(name1)\n",
    "    img2=img.filter(ImageFilter.MaxFilter(size=3))\n",
    "    return np.array(img2)"
   ]
  },
  {
   "cell_type": "code",
   "execution_count": 98,
   "id": "fd34e11e",
   "metadata": {},
   "outputs": [
    {
     "name": "stdout",
     "output_type": "stream",
     "text": [
      "['Min']\n"
     ]
    },
    {
     "data": {
      "text/plain": [
       "array([[200, 200, 200, ..., 200, 200, 200],\n",
       "       [200, 200, 200, ..., 200, 200, 200],\n",
       "       [200, 200, 200, ..., 200, 200, 200],\n",
       "       ...,\n",
       "       [200, 200, 200, ..., 178, 178, 200],\n",
       "       [200, 200, 200, ..., 178, 178, 200],\n",
       "       [200, 200, 200, ..., 178, 178, 200]], dtype=uint8)"
      ]
     },
     "execution_count": 98,
     "metadata": {},
     "output_type": "execute_result"
    }
   ],
   "source": [
    "d={0:\"Grey-scaling\",1:\"Thresholding\",2:\"Inversion\",3:\"Blurring\",4:\"Sharpening\",5:\"Min\",6:\"Max\"}\n",
    "\n",
    "def GenerateCombinations(imageName, N): #give input as file name and mask, returns the new image pixel values\n",
    "     #number of different operations we have [greyscaling, thresholding etc\n",
    "    if(N==0):\n",
    "        return reduce(cv2.imread(imageName))\n",
    "    operationsList=[]\n",
    "    for j in range(0,32):\n",
    "        if(N&(1<<j)):\n",
    "            operationsList.append(d[j])\n",
    "    newArray=[]\n",
    "    print(operationsList)\n",
    "    for operations in operationsList:\n",
    "        enter=0\n",
    "        if(operations==\"Grey-scaling\"):\n",
    "            enter=1\n",
    "            newArray=Grayscale(imageName)\n",
    "        elif(operations==\"Thresholding\"):\n",
    "            enter=1\n",
    "            newArray=Binary_Thresholding(imageName, 100, 200)\n",
    "        elif(operations==\"Inversion\"):\n",
    "            enter=1\n",
    "            newArray=invert(imageName)\n",
    "        elif(operations == \"Blurring\"):\n",
    "            enter=1\n",
    "            newArray=blur(imageName)\n",
    "        elif(operations == \"Sharpening\"):\n",
    "            enter=1\n",
    "            newArray=sharpen(imageName)\n",
    "        elif(operations == \"Min\"):\n",
    "            enter=1\n",
    "            newArray=min(imageName)\n",
    "        elif(operations == \"Max\"):\n",
    "            enter=1\n",
    "            newArray=max(imageName)\n",
    "        if(enter):\n",
    "            new_image = Image.fromarray(newArray)\n",
    "            new_image.save(imageName)\n",
    "    return newArray\n",
    "\n",
    "GenerateCombinations(\"anvil10_3.png\",32)"
   ]
  },
  {
   "cell_type": "code",
   "execution_count": 99,
   "id": "fb3f6080",
   "metadata": {},
   "outputs": [
    {
     "data": {
      "text/html": [
       "<div>\n",
       "<style scoped>\n",
       "    .dataframe tbody tr th:only-of-type {\n",
       "        vertical-align: middle;\n",
       "    }\n",
       "\n",
       "    .dataframe tbody tr th {\n",
       "        vertical-align: top;\n",
       "    }\n",
       "\n",
       "    .dataframe thead th {\n",
       "        text-align: right;\n",
       "    }\n",
       "</style>\n",
       "<table border=\"1\" class=\"dataframe\">\n",
       "  <thead>\n",
       "    <tr style=\"text-align: right;\">\n",
       "      <th></th>\n",
       "      <th>emotion</th>\n",
       "      <th>Usage</th>\n",
       "      <th>pixels</th>\n",
       "    </tr>\n",
       "  </thead>\n",
       "  <tbody>\n",
       "    <tr>\n",
       "      <th>0</th>\n",
       "      <td>0</td>\n",
       "      <td>Training</td>\n",
       "      <td>70 80 82 72 58 58 60 63 54 58 60 48 89 115 121...</td>\n",
       "    </tr>\n",
       "    <tr>\n",
       "      <th>1</th>\n",
       "      <td>0</td>\n",
       "      <td>Training</td>\n",
       "      <td>151 150 147 155 148 133 111 140 170 174 182 15...</td>\n",
       "    </tr>\n",
       "    <tr>\n",
       "      <th>2</th>\n",
       "      <td>2</td>\n",
       "      <td>Training</td>\n",
       "      <td>231 212 156 164 174 138 161 173 182 200 106 38...</td>\n",
       "    </tr>\n",
       "    <tr>\n",
       "      <th>3</th>\n",
       "      <td>4</td>\n",
       "      <td>Training</td>\n",
       "      <td>24 32 36 30 32 23 19 20 30 41 21 22 32 34 21 1...</td>\n",
       "    </tr>\n",
       "    <tr>\n",
       "      <th>4</th>\n",
       "      <td>6</td>\n",
       "      <td>Training</td>\n",
       "      <td>4 0 0 0 0 0 0 0 0 0 0 0 3 15 23 28 48 50 58 84...</td>\n",
       "    </tr>\n",
       "  </tbody>\n",
       "</table>\n",
       "</div>"
      ],
      "text/plain": [
       "   emotion     Usage                                             pixels\n",
       "0        0  Training  70 80 82 72 58 58 60 63 54 58 60 48 89 115 121...\n",
       "1        0  Training  151 150 147 155 148 133 111 140 170 174 182 15...\n",
       "2        2  Training  231 212 156 164 174 138 161 173 182 200 106 38...\n",
       "3        4  Training  24 32 36 30 32 23 19 20 30 41 21 22 32 34 21 1...\n",
       "4        6  Training  4 0 0 0 0 0 0 0 0 0 0 0 3 15 23 28 48 50 58 84..."
      ]
     },
     "execution_count": 99,
     "metadata": {},
     "output_type": "execute_result"
    }
   ],
   "source": [
    "data.head()"
   ]
  },
  {
   "cell_type": "code",
   "execution_count": 100,
   "id": "1ee5aeb2",
   "metadata": {},
   "outputs": [],
   "source": [
    "# for mask in range(1,(1<<4)):\n",
    "#     data = pd.read_csv('icml_face_data.csv')\n",
    "#     for index in range(10):\n",
    "#         row=[]\n",
    "#         pix=[]\n",
    "#         for i in range(len(data[' pixels'].iloc[index].split(\" \"))):\n",
    "#             row.append(int(data[' pixels'].iloc[index].split(\" \")[i]))\n",
    "#             if(len(row)==48):\n",
    "#                 pix.append(row)\n",
    "#                 row=[]\n",
    "#         array = np.array(pix, dtype=np.uint8)\n",
    "#         newdata=\"\"\n",
    "#         new_image = Image.fromarray(array)\n",
    "#         new_image.save('dummy.png')\n",
    "#         new_array=GenerateCombinations(\"dummy.png\",mask)\n",
    "#         for i in new_array:\n",
    "#             for j in i:\n",
    "#                 newdata+=str(j)\n",
    "#                 newdata+=\" \"\n",
    "#         newdata=newdata[:-1]\n",
    "#         data[' pixels'].iloc[index]=newdata\n",
    "#     print(data.head())\n",
    "#     print(data.shape[0])\n",
    "#     driverFunction(data)\n",
    "#     break"
   ]
  },
  {
   "cell_type": "code",
   "execution_count": 101,
   "id": "e60eb078",
   "metadata": {},
   "outputs": [],
   "source": [
    "mask=0 #global mask"
   ]
  },
  {
   "cell_type": "code",
   "execution_count": 102,
   "id": "906f1034",
   "metadata": {},
   "outputs": [],
   "source": [
    "def check(image,prev):\n",
    "    count=0\n",
    "    for i in range(len(image)):\n",
    "        for j in range(len(image[i])):\n",
    "            for k in range(len(image[i][j])):\n",
    "                if(image[i][j][k]!=prev[i][j][k]):\n",
    "                    count+=1\n",
    "    if(count>230): #more than 10% change\n",
    "        return True\n",
    "    return False"
   ]
  },
  {
   "cell_type": "code",
   "execution_count": 110,
   "id": "613b693f",
   "metadata": {},
   "outputs": [
    {
     "name": "stdout",
     "output_type": "stream",
     "text": [
      "calling driver\n"
     ]
    },
    {
     "data": {
      "image/png": "[encoded data removed]",
      "text/plain": [
       "<Figure size 2160x864 with 7 Axes>"
      ]
     },
     "metadata": {
      "needs_background": "light"
     },
     "output_type": "display_data"
    },
    {
     "data": {
      "image/png": "[encoded data removed]",
      "text/plain": [
       "<Figure size 864x432 with 2 Axes>"
      ]
     },
     "metadata": {
      "needs_background": "light"
     },
     "output_type": "display_data"
    },
    {
     "name": "stdout",
     "output_type": "stream",
     "text": [
      "Model: \"sequential\"\n",
      "_________________________________________________________________\n",
      " Layer (type)                Output Shape              Param #   \n",
      "=================================================================\n",
      " conv2d (Conv2D)             (None, 46, 46, 32)        320       \n",
      "                                                                 \n",
      " max_pooling2d (MaxPooling2D  (None, 23, 23, 32)       0         \n",
      " )                                                               \n",
      "                                                                 \n",
      " conv2d_1 (Conv2D)           (None, 21, 21, 64)        18496     \n",
      "                                                                 \n",
      " max_pooling2d_1 (MaxPooling  (None, 10, 10, 64)       0         \n",
      " 2D)                                                             \n",
      "                                                                 \n",
      " conv2d_2 (Conv2D)           (None, 8, 8, 64)          36928     \n",
      "                                                                 \n",
      " flatten (Flatten)           (None, 4096)              0         \n",
      "                                                                 \n",
      " dense (Dense)               (None, 64)                262208    \n",
      "                                                                 \n",
      " dense_1 (Dense)             (None, 7)                 455       \n",
      "                                                                 \n",
      "=================================================================\n",
      "Total params: 318,407\n",
      "Trainable params: 318,407\n",
      "Non-trainable params: 0\n",
      "_________________________________________________________________\n",
      "449/449 [==============================] - 73s 161ms/step - loss: 0.2701 - accuracy: 0.3130 - val_loss: 1.6709 - val_accuracy: 0.3547\n",
      "113/113 [==============================] - 3s 27ms/step - loss: 1.6519 - accuracy: 0.3667\n",
      "test caccuracy: 0.3666759431362152\n"
     ]
    },
    {
     "data": {
      "image/png": "[encoded data removed]",
      "text/plain": [
       "<Figure size 864x432 with 2 Axes>"
      ]
     },
     "metadata": {
      "needs_background": "light"
     },
     "output_type": "display_data"
    },
    {
     "name": "stdout",
     "output_type": "stream",
     "text": [
      "driver done\n",
      "['Thresholding', 'Blurring']\n"
     ]
    },
    {
     "data": {
      "image/png": "[encoded data removed]",
      "text/plain": [
       "<Figure size 432x288 with 1 Axes>"
      ]
     },
     "metadata": {
      "needs_background": "light"
     },
     "output_type": "display_data"
    },
    {
     "name": "stdout",
     "output_type": "stream",
     "text": [
      "['Thresholding', 'Blurring']\n"
     ]
    },
    {
     "data": {
      "image/png": "[encoded data removed]",
      "text/plain": [
       "<Figure size 432x288 with 1 Axes>"
      ]
     },
     "metadata": {
      "needs_background": "light"
     },
     "output_type": "display_data"
    },
    {
     "name": "stdout",
     "output_type": "stream",
     "text": [
      "['Thresholding', 'Blurring']\n"
     ]
    },
    {
     "data": {
      "image/png": "[encoded data removed]",
      "text/plain": [
       "<Figure size 432x288 with 1 Axes>"
      ]
     },
     "metadata": {
      "needs_background": "light"
     },
     "output_type": "display_data"
    },
    {
     "name": "stdout",
     "output_type": "stream",
     "text": [
      "['Thresholding', 'Blurring']\n"
     ]
    },
    {
     "data": {
      "image/png": "[encoded data removed]",
      "text/plain": [
       "<Figure size 432x288 with 1 Axes>"
      ]
     },
     "metadata": {
      "needs_background": "light"
     },
     "output_type": "display_data"
    },
    {
     "name": "stdout",
     "output_type": "stream",
     "text": [
      "['Thresholding', 'Blurring']\n"
     ]
    },
    {
     "data": {
      "image/png": "[encoded data removed]",
      "text/plain": [
       "<Figure size 432x288 with 1 Axes>"
      ]
     },
     "metadata": {
      "needs_background": "light"
     },
     "output_type": "display_data"
    },
    {
     "name": "stdout",
     "output_type": "stream",
     "text": [
      "['Thresholding', 'Blurring']\n"
     ]
    },
    {
     "data": {
      "image/png": "[encoded data removed]",
      "text/plain": [
       "<Figure size 432x288 with 1 Axes>"
      ]
     },
     "metadata": {
      "needs_background": "light"
     },
     "output_type": "display_data"
    },
    {
     "name": "stdout",
     "output_type": "stream",
     "text": [
      "['Thresholding', 'Blurring']\n"
     ]
    },
    {
     "data": {
      "image/png": "[encoded data removed]",
      "text/plain": [
       "<Figure size 432x288 with 1 Axes>"
      ]
     },
     "metadata": {
      "needs_background": "light"
     },
     "output_type": "display_data"
    },
    {
     "name": "stdout",
     "output_type": "stream",
     "text": [
      "['Thresholding', 'Blurring']\n"
     ]
    },
    {
     "data": {
      "image/png": "[encoded data removed]",
      "text/plain": [
       "<Figure size 432x288 with 1 Axes>"
      ]
     },
     "metadata": {
      "needs_background": "light"
     },
     "output_type": "display_data"
    },
    {
     "name": "stdout",
     "output_type": "stream",
     "text": [
      "{'Angry': 3, 'Disgust': 0, 'Fear': 0, 'Happy': 0, 'Sad': 5, 'Surprise': 0, 'Neutral': 0}\n"
     ]
    }
   ],
   "source": [
    "import cv2\n",
    "emotions = {0: 'Angry', 1: 'Disgust', 2: 'Fear', 3: 'Happy', 4: 'Sad', 5: 'Surprise', 6: 'Neutral'}\n",
    "freq = {'Angry': 0, 'Disgust': 0, 'Fear': 0, 'Happy': 0, 'Sad': 0, 'Surprise': 0, 'Neutral': 0}\n",
    "def getFrames(file):\n",
    "    global emotions\n",
    "    global freq\n",
    "    dataSet=\"Mask\"+str(mask)+\".csv\"\n",
    "    data = pd.read_csv(dataSet)\n",
    "    print(\"calling driver\")\n",
    "    model=driverFunction(data)\n",
    "    print(\"driver done\")\n",
    "    vidcap=cv2.VideoCapture(file) #capture and read the video file\n",
    "    success,image=vidcap.read()\n",
    "    prev=image\n",
    "    while success:\n",
    "        image=cv2.resize(image, (48,48), interpolation = cv2.INTER_AREA)\n",
    "        if(check(image,prev)):\n",
    "            cv2.imwrite(\"frame.png\",image)\n",
    "            image = cv2.imread(\"frame.png\")\n",
    "            #Show the image with matplotlib\n",
    "            #plt.imshow(cv2.cvtColor(image, cv2.COLOR_BGR2RGB))\n",
    "            #plt.show()\n",
    "            newdata=\"\"\n",
    "            new_array=GenerateCombinations(\"frame.png\",mask) #place mask on the input image as well\n",
    "            plt.imshow(cv2.cvtColor(new_array, cv2.COLOR_BGR2RGB))\n",
    "            plt.show()\n",
    "            for i in new_array:\n",
    "                for j in i:\n",
    "                    newdata+=str(j)\n",
    "                    newdata+=\" \"\n",
    "            newdata=newdata[:-1]\n",
    "            row=[]\n",
    "            pix=[]\n",
    "            newdata=newdata.split(\" \")\n",
    "            for i in range(len(newdata)):\n",
    "                row.append([int(newdata[i])])\n",
    "                if(len(row)==48):\n",
    "                    pix.append(row)\n",
    "                    row=[]\n",
    "            array = np.array(pix, dtype=np.uint8)\n",
    "            test_images[0]=array #just change the first row of test_images \n",
    "            pred_test_labels = model.predict(test_images[:1])[0] #predict\n",
    "            mx=__builtin__.max(pred_test_labels)\n",
    "            for i in range(len(pred_test_labels)):\n",
    "                if(pred_test_labels[i]==mx):\n",
    "                    freq[emotions[i]]+=1\n",
    "        prev=image\n",
    "        success,image=vidcap.read()\n",
    "    return freq\n",
    "#print(getFrames(\"tr.mp4\"))"
   ]
  },
  {
   "cell_type": "code",
   "execution_count": 104,
   "id": "d95f0414",
   "metadata": {},
   "outputs": [],
   "source": [
    "def getAudio(file):\n",
    "    my_clip = mp.VideoFileClip(file)\n",
    "    my_clip.audio.write_audiofile(r\"finally.mp3\")\n",
    "    return 1"
   ]
  },
  {
   "cell_type": "code",
   "execution_count": 105,
   "id": "5adfa1e1",
   "metadata": {},
   "outputs": [],
   "source": [
    "def runApplication(fileName):\n",
    "    outputVideo=getFrames(fileName)\n",
    "    outputAudio=getAudio(fileName) #audio is written in finally.mp3 and sent to meetingOWL project [done]\n",
    "    return [outputVideo,outputAudio]"
   ]
  },
  {
   "cell_type": "code",
   "execution_count": 106,
   "id": "4f9f6935",
   "metadata": {},
   "outputs": [],
   "source": [
    "@anvil.server.callable\n",
    "def write_media_to_file(media_object):\n",
    "    with anvil.media.TempFile(media_object) as f:\n",
    "        #file stored in finally.mp3\n",
    "        copy(f, \"finally.mp4\")\n",
    "        #convert the speech to text\n",
    "        result=runApplication(\"finally.mp4\")\n",
    "        #return {'Angry': 3, 'Disgust': 4, 'Fear': 5, 'Happy': 8, 'Sad': 1, 'Surprise': 3, 'Neutral': 0}\n",
    "        return result[0]"
   ]
  },
  {
   "cell_type": "code",
   "execution_count": 107,
   "id": "a5da5df8",
   "metadata": {},
   "outputs": [],
   "source": [
    "@anvil.server.callable\n",
    "def updateMask(bitNumber,status):\n",
    "    global mask\n",
    "    if(status==True):\n",
    "        mask|=(1<<bitNumber)\n",
    "    else:\n",
    "        mask&=~(1<<bitNumber)\n",
    "    print(mask)\n",
    "    return mask"
   ]
  },
  {
   "cell_type": "code",
   "execution_count": 108,
   "id": "66cde81c",
   "metadata": {},
   "outputs": [],
   "source": [
    "# data = pd.read_csv('icml_face_data.csv')\n",
    "# for index in range(5):\n",
    "#     row=[]\n",
    "#     pix=[]\n",
    "#     for i in range(len(data[' pixels'].iloc[index].split(\" \"))):\n",
    "#         row.append(int(data[' pixels'].iloc[index].split(\" \")[i]))\n",
    "#         if(len(row)==48):\n",
    "#             pix.append(row)\n",
    "#             row=[]\n",
    "#     array = np.array(pix, dtype=np.uint8)\n",
    "#     newdata=\"\"\n",
    "#     new_image = Image.fromarray(array)\n",
    "#     new_image.save('dummy'+str(index)+'.png')"
   ]
  },
  {
   "cell_type": "code",
   "execution_count": null,
   "id": "bbc5992c",
   "metadata": {},
   "outputs": [],
   "source": []
  },
  {
   "cell_type": "code",
   "execution_count": 109,
   "id": "a23bb95f",
   "metadata": {},
   "outputs": [
    {
     "name": "stdout",
     "output_type": "stream",
     "text": [
      "2\n",
      "6\n",
      "2\n",
      "10\n",
      "calling driver\n"
     ]
    },
    {
     "data": {
      "image/png": "[encoded data removed]",
      "text/plain": [
       "<Figure size 2160x864 with 7 Axes>"
      ]
     },
     "metadata": {
      "needs_background": "light"
     },
     "output_type": "display_data"
    },
    {
     "data": {
      "image/png": "[encoded data removed]",
      "text/plain": [
       "<Figure size 864x432 with 2 Axes>"
      ]
     },
     "metadata": {
      "needs_background": "light"
     },
     "output_type": "display_data"
    },
    {
     "name": "stdout",
     "output_type": "stream",
     "text": [
      "Model: \"sequential\"\n",
      "_________________________________________________________________\n",
      " Layer (type)                Output Shape              Param #   \n",
      "=================================================================\n",
      " conv2d (Conv2D)             (None, 46, 46, 32)        320       \n",
      "                                                                 \n",
      " max_pooling2d (MaxPooling2D  (None, 23, 23, 32)       0         \n",
      " )                                                               \n",
      "                                                                 \n",
      " conv2d_1 (Conv2D)           (None, 21, 21, 64)        18496     \n",
      "                                                                 \n",
      " max_pooling2d_1 (MaxPooling  (None, 10, 10, 64)       0         \n",
      " 2D)                                                             \n",
      "                                                                 \n",
      " conv2d_2 (Conv2D)           (None, 8, 8, 64)          36928     \n",
      "                                                                 \n",
      " flatten (Flatten)           (None, 4096)              0         \n",
      "                                                                 \n",
      " dense (Dense)               (None, 64)                262208    \n",
      "                                                                 \n",
      " dense_1 (Dense)             (None, 7)                 455       \n",
      "                                                                 \n",
      "=================================================================\n",
      "Total params: 318,407\n",
      "Trainable params: 318,407\n",
      "Non-trainable params: 0\n",
      "_________________________________________________________________\n",
      "449/449 [==============================] - 89s 185ms/step - loss: 0.2718 - accuracy: 0.3038 - val_loss: 1.6491 - val_accuracy: 0.3631\n",
      "113/113 [==============================] - 3s 28ms/step - loss: 1.6325 - accuracy: 0.3734\n",
      "test caccuracy: 0.37336304783821106\n"
     ]
    },
    {
     "data": {
      "image/png": "[encoded data removed]",
      "text/plain": [
       "<Figure size 864x432 with 2 Axes>"
      ]
     },
     "metadata": {
      "needs_background": "light"
     },
     "output_type": "display_data"
    },
    {
     "name": "stdout",
     "output_type": "stream",
     "text": [
      "driver done\n",
      "['Thresholding', 'Blurring']\n"
     ]
    },
    {
     "data": {
      "image/png": "[encoded data removed]",
      "text/plain": [
       "<Figure size 432x288 with 1 Axes>"
      ]
     },
     "metadata": {
      "needs_background": "light"
     },
     "output_type": "display_data"
    },
    {
     "name": "stdout",
     "output_type": "stream",
     "text": [
      "['Thresholding', 'Blurring']\n"
     ]
    },
    {
     "data": {
      "image/png": "[encoded data removed]",
      "text/plain": [
       "<Figure size 432x288 with 1 Axes>"
      ]
     },
     "metadata": {
      "needs_background": "light"
     },
     "output_type": "display_data"
    },
    {
     "name": "stdout",
     "output_type": "stream",
     "text": [
      "['Thresholding', 'Blurring']\n"
     ]
    },
    {
     "data": {
      "image/png": "[encoded data removed]",
      "text/plain": [
       "<Figure size 432x288 with 1 Axes>"
      ]
     },
     "metadata": {
      "needs_background": "light"
     },
     "output_type": "display_data"
    },
    {
     "name": "stdout",
     "output_type": "stream",
     "text": [
      "['Thresholding', 'Blurring']\n"
     ]
    },
    {
     "data": {
      "image/png": "[encoded data removed]",
      "text/plain": [
       "<Figure size 432x288 with 1 Axes>"
      ]
     },
     "metadata": {
      "needs_background": "light"
     },
     "output_type": "display_data"
    },
    {
     "name": "stdout",
     "output_type": "stream",
     "text": [
      "['Thresholding', 'Blurring']\n"
     ]
    },
    {
     "data": {
      "image/png": "[encoded data removed]",
      "text/plain": [
       "<Figure size 432x288 with 1 Axes>"
      ]
     },
     "metadata": {
      "needs_background": "light"
     },
     "output_type": "display_data"
    },
    {
     "name": "stdout",
     "output_type": "stream",
     "text": [
      "['Thresholding', 'Blurring']\n"
     ]
    },
    {
     "data": {
      "image/png": "[encoded data removed]",
      "text/plain": [
       "<Figure size 432x288 with 1 Axes>"
      ]
     },
     "metadata": {
      "needs_background": "light"
     },
     "output_type": "display_data"
    },
    {
     "name": "stdout",
     "output_type": "stream",
     "text": [
      "['Thresholding', 'Blurring']\n"
     ]
    },
    {
     "data": {
      "image/png": "[encoded data removed]",
      "text/plain": [
       "<Figure size 432x288 with 1 Axes>"
      ]
     },
     "metadata": {
      "needs_background": "light"
     },
     "output_type": "display_data"
    },
    {
     "name": "stdout",
     "output_type": "stream",
     "text": [
      "['Thresholding', 'Blurring']\n"
     ]
    },
    {
     "data": {
      "image/png": "[encoded data removed]",
      "text/plain": [
       "<Figure size 432x288 with 1 Axes>"
      ]
     },
     "metadata": {
      "needs_background": "light"
     },
     "output_type": "display_data"
    },
    {
     "name": "stderr",
     "output_type": "stream",
     "text": [
      "\r",
      "chunk:   0%|                                                                         | 0/231 [00:00<?, ?it/s, now=None]"
     ]
    },
    {
     "name": "stdout",
     "output_type": "stream",
     "text": [
      "MoviePy - Writing audio in finally.mp3\n"
     ]
    },
    {
     "name": "stderr",
     "output_type": "stream",
     "text": [
      "                                                                                                                       \r"
     ]
    },
    {
     "name": "stdout",
     "output_type": "stream",
     "text": [
      "MoviePy - Done.\n"
     ]
    }
   ],
   "source": [
    "# for msk in range(1,15):\n",
    "#     try:\n",
    "#         data = pd.read_csv('Mask'+str(msk)+'.csv')\n",
    "#     except:\n",
    "#         continue\n",
    "#     listz=[]\n",
    "#     for maskB in range(0,7):\n",
    "#         print(\"lolz\")\n",
    "#         for j in range(data.shape[0]):\n",
    "#             if(data['emotion'].iloc[j]==maskB):\n",
    "#                 row=[]\n",
    "#                 pix=[]\n",
    "#                 for i in range(len(data[' pixels'].iloc[j].split(\" \"))):\n",
    "#                     row.append(int(data[' pixels'].iloc[j].split(\" \")[i]))\n",
    "#                     if(len(row)==48):\n",
    "#                         pix.append(row)\n",
    "#                         row=[]\n",
    "\n",
    "#                 array = np.array(pix, dtype=np.uint8)\n",
    "#                 new_image = Image.fromarray(array)\n",
    "#     #             print(new_image)\n",
    "#     #             print(len(array),len(array[0]))\n",
    "#     #             print('anvil'+str(maskB)+'.png')\n",
    "#                 new_image.save('anvil'+str(maskB)+'.png')\n",
    "#                 image = cv2.imread('anvil'+str(maskB)+'.png')\n",
    "#                 #plt.imshow(cv2.cvtColor(image, cv2.COLOR_BGR2RGB))\n",
    "#                 #plt.show()\n",
    "#                 new_array=Image.fromarray(GenerateCombinations('anvil'+str(maskB)+'.png',10))\n",
    "#                 listz.append(new_array)\n",
    "#                 new_array.save('anvil10_'+str(maskB)+'.png')\n",
    "#                 break\n",
    "#     rows=3\n",
    "#     cols =3\n",
    "#     img_count = 0\n",
    "\n",
    "#     fig, axes = plt.subplots(nrows=rows, ncols=cols, figsize=(15,15))\n",
    "#     maskB=0\n",
    "#     co=0\n",
    "#     keyz=list({'Angry': 3, 'Disgust': 4, 'Fear': 5, 'Happy': 8, 'Sad': 1, 'Surprise': 3, 'Neutral': 0}.keys())\n",
    "#     for i in range(rows):\n",
    "#         for j in range(cols):        \n",
    "#             if True:\n",
    "#                 f=0\n",
    "#                 if(maskB==6):\n",
    "#                     maskB+=1\n",
    "#                     continue\n",
    "#                 if(maskB>=7):\n",
    "#                     f=1\n",
    "#                     maskB-=1\n",
    "\n",
    "#                 image = cv2.imread('anvil'+str(maskB)+'.png')\n",
    "\n",
    "#                 axes[i, j].imshow(cv2.cvtColor(image, cv2.COLOR_BGR2RGB))\n",
    "#                 axes[i,j].set_title(keyz[img_count],fontstyle='italic')\n",
    "\n",
    "#                 maskB+=1\n",
    "#                 img_count+=1\n",
    "#                 if(f):\n",
    "#                     break\n",
    "                    \n",
    "#     fig.delaxes(axes[2][0])\n",
    "#     fig.delaxes(axes[2][-1])\n",
    "#     fig.savefig('final'+str(msk)+'.png')\n",
    "# # for label, ax in axes[0][0]:\n",
    "# #     ax.set_title('Normal Title', fontstyle='italic')\n",
    "# #     ax.set_title(label, fontfamily='serif', loc='left', fontsize='medium')\n"
   ]
  },
  {
   "cell_type": "code",
   "execution_count": 111,
   "id": "340dc938",
   "metadata": {},
   "outputs": [
    {
     "name": "stdout",
     "output_type": "stream",
     "text": [
      "Collecting tabulate\n",
      "  Downloading tabulate-0.8.9-py3-none-any.whl (25 kB)\n",
      "Installing collected packages: tabulate\n",
      "Successfully installed tabulate-0.8.9\n"
     ]
    }
   ],
   "source": [
    "!pip install tabulate\n"
   ]
  },
  {
   "cell_type": "code",
   "execution_count": null,
   "id": "bcf0f168",
   "metadata": {},
   "outputs": [
    {
     "data": {
      "image/png": "[encoded data removed]",
      "text/plain": [
       "<Figure size 2160x864 with 7 Axes>"
      ]
     },
     "metadata": {
      "needs_background": "light"
     },
     "output_type": "display_data"
    },
    {
     "data": {
      "image/png": "[encoded data removed]",
      "text/plain": [
       "<Figure size 864x432 with 2 Axes>"
      ]
     },
     "metadata": {
      "needs_background": "light"
     },
     "output_type": "display_data"
    },
    {
     "name": "stdout",
     "output_type": "stream",
     "text": [
      "Model: \"sequential_1\"\n",
      "_________________________________________________________________\n",
      " Layer (type)                Output Shape              Param #   \n",
      "=================================================================\n",
      " conv2d_3 (Conv2D)           (None, 46, 46, 32)        320       \n",
      "                                                                 \n",
      " max_pooling2d_2 (MaxPooling  (None, 23, 23, 32)       0         \n",
      " 2D)                                                             \n",
      "                                                                 \n",
      " conv2d_4 (Conv2D)           (None, 21, 21, 64)        18496     \n",
      "                                                                 \n",
      " max_pooling2d_3 (MaxPooling  (None, 10, 10, 64)       0         \n",
      " 2D)                                                             \n",
      "                                                                 \n",
      " conv2d_5 (Conv2D)           (None, 8, 8, 64)          36928     \n",
      "                                                                 \n",
      " flatten_1 (Flatten)         (None, 4096)              0         \n",
      "                                                                 \n",
      " dense_2 (Dense)             (None, 64)                262208    \n",
      "                                                                 \n",
      " dense_3 (Dense)             (None, 7)                 455       \n",
      "                                                                 \n",
      "=================================================================\n",
      "Total params: 318,407\n",
      "Trainable params: 318,407\n",
      "Non-trainable params: 0\n",
      "_________________________________________________________________\n",
      "Epoch 1/12\n",
      "449/449 [==============================] - 81s 178ms/step - loss: 0.2670 - accuracy: 0.3173 - val_loss: 1.5916 - val_accuracy: 0.3812\n",
      "Epoch 2/12\n",
      "449/449 [==============================] - 84s 186ms/step - loss: 0.2308 - accuracy: 0.4277 - val_loss: 1.4803 - val_accuracy: 0.4514\n",
      "Epoch 3/12\n",
      "449/449 [==============================] - 83s 186ms/step - loss: 0.2096 - accuracy: 0.4819 - val_loss: 1.3833 - val_accuracy: 0.4854\n",
      "Epoch 4/12\n",
      "449/449 [==============================] - 87s 194ms/step - loss: 0.1961 - accuracy: 0.5186 - val_loss: 1.3361 - val_accuracy: 0.4965\n",
      "Epoch 5/12\n",
      "449/449 [==============================] - 91s 203ms/step - loss: 0.1858 - accuracy: 0.5412 - val_loss: 1.2754 - val_accuracy: 0.5202\n",
      "Epoch 6/12\n",
      "449/449 [==============================] - 85s 189ms/step - loss: 0.1773 - accuracy: 0.5658 - val_loss: 1.2742 - val_accuracy: 0.5347\n",
      "Epoch 7/12\n",
      "303/449 [===================>..........] - ETA: 26s - loss: 0.1683 - accuracy: 0.5886"
     ]
    }
   ],
   "source": [
    "# import module\n",
    "from tabulate import tabulate\n",
    "# assign data\n",
    "mydata = []\n",
    "for MASKiter in range(18):\n",
    "    data = pd.read_csv('Mask'+str(MASKiter)+'.csv')\n",
    "    acc=driverFunction(data)\n",
    "    mydata.append([\"Mask\"+str(MASKiter),str(acc)])\n",
    "\n",
    "# create header\n",
    "head = [\"Binary mask\", \"Accuracy\"]\n",
    "\n"
   ]
  },
  {
   "cell_type": "code",
   "execution_count": null,
   "id": "e91ba99f",
   "metadata": {},
   "outputs": [],
   "source": [
    "# display table\n",
    "print(tabulate(mydata, headers=head, tablefmt=\"grid\"))"
   ]
  }
 ],
 "metadata": {
  "kernelspec": {
   "display_name": "Python 3",
   "language": "python",
   "name": "python3"
  },
  "language_info": {
   "codemirror_mode": {
    "name": "ipython",
    "version": 3
   },
   "file_extension": ".py",
   "mimetype": "text/x-python",
   "name": "python",
   "nbconvert_exporter": "python",
   "pygments_lexer": "ipython3",
   "version": "3.8.8"
  }
 },
 "nbformat": 4,
 "nbformat_minor": 5
}
